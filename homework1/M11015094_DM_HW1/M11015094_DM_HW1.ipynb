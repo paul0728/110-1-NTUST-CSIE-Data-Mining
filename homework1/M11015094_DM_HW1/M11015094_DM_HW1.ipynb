{
 "cells": [
  {
   "cell_type": "code",
   "execution_count": null,
   "id": "according-verification",
   "metadata": {
    "ExecuteTime": {
     "end_time": "2021-10-27T15:45:57.263295Z",
     "start_time": "2021-10-27T15:45:57.257661Z"
    }
   },
   "outputs": [],
   "source": [
    "import pandas as pd\n",
    "from mlxtend.preprocessing import TransactionEncoder\n",
    "from mlxtend.frequent_patterns import apriori, fpmax, fpgrowth\n",
    "from mlxtend.frequent_patterns import association_rules"
   ]
  },
  {
   "cell_type": "code",
   "execution_count": null,
   "id": "focused-richardson",
   "metadata": {
    "ExecuteTime": {
     "end_time": "2021-10-27T15:46:04.715924Z",
     "start_time": "2021-10-27T15:46:00.556058Z"
    }
   },
   "outputs": [],
   "source": [
    "# 讀檔案\n",
    "df = pd.read_csv('./DMHW1_data.csv')"
   ]
  },
  {
   "cell_type": "code",
   "execution_count": null,
   "id": "recent-polymer",
   "metadata": {
    "ExecuteTime": {
     "end_time": "2021-10-27T15:47:48.966370Z",
     "start_time": "2021-10-27T15:47:47.900171Z"
    }
   },
   "outputs": [],
   "source": [
    "\n",
    "# find the frequent item set ,  using fp-tree method\n",
    "# min support = 3\n",
    "frequent_itemsets = fpgrowth(df, min_support=0.03, use_colnames=True)\n",
    "\n",
    "# compute association rules\n",
    "rules = association_rules( frequent_itemsets, metric='confidence', min_threshold=0 )\n",
    "\n",
    "# print dataFrame 會有 frozenset({\"xxxx\"}), 不好看, 改成\"xxxx\"\"\n",
    "def postprocess( rules ):\n",
    "    rules['antecedents'] = rules['antecedents'].apply( lambda x:\", \".join(list(x)) )\n",
    "    rules['consequents'] = rules['consequents'].apply( lambda x:\", \".join(list(x)) )\n",
    "postprocess(rules)\n",
    "\n",
    "# print( frequent_itemsets )\n",
    "# rules"
   ]
  },
  {
   "cell_type": "code",
   "execution_count": null,
   "id": "cardiovascular-gamma",
   "metadata": {
    "ExecuteTime": {
     "end_time": "2021-10-27T15:46:06.522403Z",
     "start_time": "2021-10-27T15:46:06.483939Z"
    }
   },
   "outputs": [],
   "source": [
    "# problem3 , 使用confidence 排序\n",
    "rules.sort_values(by='confidence', ascending=False).to_csv('p3.csv')\n",
    "\n",
    "frequent_itemsets.to_csv('p3.csv')"
   ]
  },
  {
   "cell_type": "code",
   "execution_count": null,
   "id": "legislative-marathon",
   "metadata": {
    "ExecuteTime": {
     "end_time": "2021-10-27T15:46:12.081043Z",
     "start_time": "2021-10-27T15:46:07.858494Z"
    }
   },
   "outputs": [],
   "source": [
    "# problem 5\n",
    "frequent_itemsets = fpgrowth(df, min_support=0.01, use_colnames=True)\n",
    "\n",
    "rules = association_rules( frequent_itemsets, metric='confidence', min_threshold=0 )\n",
    "\n",
    "# get antecedents + consequents == 4 rules , \n",
    "rules['len'] = rules[\"antecedents\"].apply(lambda x: len(x)) + rules[\"consequents\"].apply(lambda x: len(x))  "
   ]
  },
  {
   "cell_type": "code",
   "execution_count": null,
   "id": "respected-first",
   "metadata": {
    "ExecuteTime": {
     "end_time": "2021-10-27T15:46:12.727400Z",
     "start_time": "2021-10-27T15:46:12.706152Z"
    }
   },
   "outputs": [],
   "source": [
    "# Question 5\n",
    "rules_P5 = rules[ rules['len'] == 4 ].sort_values(by='confidence',ascending=False)\n",
    "rules_P5.head(1)\n",
    "# rules_P6.head(1).to_csv(\"p5.csv\")"
   ]
  },
  {
   "cell_type": "code",
   "execution_count": null,
   "id": "utility-connection",
   "metadata": {
    "ExecuteTime": {
     "end_time": "2021-10-27T15:46:15.596680Z",
     "start_time": "2021-10-27T15:46:13.990709Z"
    }
   },
   "outputs": [],
   "source": [
    "# Problem 6\n",
    "frequent_itemsets = fpgrowth(df, min_support=0.02, use_colnames=True)\n",
    "\n",
    "# compute association rules\n",
    "rules = association_rules( frequent_itemsets, metric='lift', min_threshold=0.2 )\n",
    "postprocess(rules)\n",
    "\n",
    "# print( frequent_itemsets )\n",
    "# rules\n"
   ]
  },
  {
   "cell_type": "code",
   "execution_count": null,
   "id": "derived-thermal",
   "metadata": {
    "ExecuteTime": {
     "end_time": "2021-10-27T15:47:51.117092Z",
     "start_time": "2021-10-27T15:47:51.102671Z"
    }
   },
   "outputs": [],
   "source": [
    "rules = association_rules( frequent_itemsets ,metric='lift')\n",
    "rules = rules[rules['lift'] > 15].sort_values(by='lift',ascending=False)\n",
    "postprocess(rules)\n",
    "# rules[rules['lift'] > 15].sort_values(by='lift',ascending=False).to_csv(\"Q6.csv\")"
   ]
  }
 ],
 "metadata": {
  "kernelspec": {
   "display_name": "Python 3",
   "language": "python",
   "name": "python3"
  },
  "language_info": {
   "codemirror_mode": {
    "name": "ipython",
    "version": 3
   },
   "file_extension": ".py",
   "mimetype": "text/x-python",
   "name": "python",
   "nbconvert_exporter": "python",
   "pygments_lexer": "ipython3",
   "version": "3.8.10"
  },
  "varInspector": {
   "cols": {
    "lenName": 16,
    "lenType": 16,
    "lenVar": 40
   },
   "kernels_config": {
    "python": {
     "delete_cmd_postfix": "",
     "delete_cmd_prefix": "del ",
     "library": "var_list.py",
     "varRefreshCmd": "print(var_dic_list())"
    },
    "r": {
     "delete_cmd_postfix": ") ",
     "delete_cmd_prefix": "rm(",
     "library": "var_list.r",
     "varRefreshCmd": "cat(var_dic_list()) "
    }
   },
   "types_to_exclude": [
    "module",
    "function",
    "builtin_function_or_method",
    "instance",
    "_Feature"
   ],
   "window_display": false
  }
 },
 "nbformat": 4,
 "nbformat_minor": 5
}
