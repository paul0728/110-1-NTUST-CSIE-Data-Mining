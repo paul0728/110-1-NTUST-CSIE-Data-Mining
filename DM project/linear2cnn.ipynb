{
 "cells": [
  {
   "cell_type": "code",
   "execution_count": 20,
   "id": "505a0bc5",
   "metadata": {},
   "outputs": [
    {
     "data": {
      "text/plain": [
       "torch.Size([1, 1, 2, 2])"
      ]
     },
     "execution_count": 20,
     "metadata": {},
     "output_type": "execute_result"
    }
   ],
   "source": [
    "import torch\n",
    "import os\n",
    "inputs = torch.tensor([[[[1., 2.],\n",
    "                         [3., 4.]]]])\n",
    "\n",
    "inputs.shape\n"
   ]
  },
  {
   "cell_type": "markdown",
   "id": "71970333",
   "metadata": {},
   "source": [
    "#Fully Connected Layers"
   ]
  },
  {
   "cell_type": "code",
   "execution_count": 21,
   "id": "3949cbd1",
   "metadata": {},
   "outputs": [],
   "source": [
    "fc = torch.nn.Linear(4, 2)\n",
    "\n",
    "weights = torch.tensor([[1.1, 1.2, 1.3, 1.4],\n",
    "                        [1.5, 1.6, 1.7, 1.8]])\n",
    "bias = torch.tensor([1.9, 2.0])\n",
    "fc.weight.data = weights\n",
    "fc.bias.data = bias\n"
   ]
  },
  {
   "cell_type": "code",
   "execution_count": 22,
   "id": "e87cd497",
   "metadata": {},
   "outputs": [
    {
     "data": {
      "text/plain": [
       "tensor([[14.9000, 19.0000]], grad_fn=<AddmmBackward0>)"
      ]
     },
     "execution_count": 22,
     "metadata": {},
     "output_type": "execute_result"
    }
   ],
   "source": [
    "#torch.relu(fc(inputs.view(-1, 4)))\n",
    "fc(inputs.view(-1, 4))"
   ]
  },
  {
   "cell_type": "markdown",
   "id": "1145d341",
   "metadata": {},
   "source": [
    "#Method 1: Convolutions with kernels equal to the input size"
   ]
  },
  {
   "cell_type": "code",
   "execution_count": 23,
   "id": "a8a26bdf",
   "metadata": {},
   "outputs": [
    {
     "name": "stdout",
     "output_type": "stream",
     "text": [
      "torch.Size([2, 1, 2, 2])\n",
      "torch.Size([2])\n"
     ]
    }
   ],
   "source": [
    "conv = torch.nn.Conv2d(in_channels=1,\n",
    "                       out_channels=2,\n",
    "                       kernel_size=inputs.squeeze(dim=(0)).squeeze(dim=(0)).size())\n",
    "print(conv.weight.size())\n",
    "print(conv.bias.size())"
   ]
  },
  {
   "cell_type": "code",
   "execution_count": 24,
   "id": "2a83aeb8",
   "metadata": {},
   "outputs": [],
   "source": [
    "conv.weight.data = weights.view(2, 1, 2, 2)\n",
    "conv.bias.data = bias"
   ]
  },
  {
   "cell_type": "code",
   "execution_count": 25,
   "id": "a2ad8c0d",
   "metadata": {},
   "outputs": [
    {
     "data": {
      "text/plain": [
       "tensor([[[[14.9000]],\n",
       "\n",
       "         [[19.0000]]]], grad_fn=<ReluBackward0>)"
      ]
     },
     "execution_count": 25,
     "metadata": {},
     "output_type": "execute_result"
    }
   ],
   "source": [
    "torch.relu(conv(inputs))"
   ]
  },
  {
   "cell_type": "markdown",
   "id": "03ea35d5",
   "metadata": {},
   "source": [
    "#Methods 2: Convolution with 1x1 kernels"
   ]
  },
  {
   "cell_type": "code",
   "execution_count": 30,
   "id": "86b93312",
   "metadata": {},
   "outputs": [
    {
     "data": {
      "text/plain": [
       "tensor([[[[ 0.2102]],\n",
       "\n",
       "         [[-0.2139]],\n",
       "\n",
       "         [[ 1.3615]]]], grad_fn=<ThnnConv2DBackward0>)"
      ]
     },
     "execution_count": 30,
     "metadata": {},
     "output_type": "execute_result"
    }
   ],
   "source": [
    "conv = torch.nn.Conv2d(in_channels=4,\n",
    "                       out_channels=2,\n",
    "                       kernel_size=(1, 1))\n",
    "\n",
    "#conv.weight.data = weights.view(2, 4, 1, 1)\n",
    "#conv.bias.data = bias\n",
    "conv(inputs.view(1, 4, 1, 1))\n",
    "#torch.relu(conv(inputs.view(1, 4, 1, 1)))\n",
    "#torch.relu(conv(inputs))"
   ]
  },
  {
   "cell_type": "code",
   "execution_count": 27,
   "id": "3b6abb8a",
   "metadata": {},
   "outputs": [
    {
     "data": {
      "text/plain": [
       "tensor([[-0.7626,  0.7270, -1.6125]], grad_fn=<AddmmBackward0>)"
      ]
     },
     "execution_count": 27,
     "metadata": {},
     "output_type": "execute_result"
    }
   ],
   "source": [
    "m = torch.nn.Linear(2, 3)\n",
    "input = torch.tensor([[1., 2.]])\n",
    "output = m(input)\n",
    "output\n",
    "#print(output.size())\n",
    "\n",
    "\n"
   ]
  },
  {
   "cell_type": "code",
   "execution_count": null,
   "id": "fa131d20",
   "metadata": {},
   "outputs": [],
   "source": [
    "os.path.dirname()"
   ]
  }
 ],
 "metadata": {
  "kernelspec": {
   "display_name": "Python 3 (ipykernel)",
   "language": "python",
   "name": "python3"
  },
  "language_info": {
   "codemirror_mode": {
    "name": "ipython",
    "version": 3
   },
   "file_extension": ".py",
   "mimetype": "text/x-python",
   "name": "python",
   "nbconvert_exporter": "python",
   "pygments_lexer": "ipython3",
   "version": "3.9.7"
  }
 },
 "nbformat": 4,
 "nbformat_minor": 5
}
